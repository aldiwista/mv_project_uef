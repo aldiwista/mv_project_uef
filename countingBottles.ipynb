{
 "cells": [
  {
   "cell_type": "code",
   "execution_count": 357,
   "id": "51287d84",
   "metadata": {},
   "outputs": [],
   "source": [
    "import cv2\n",
    "import numpy as np\n",
    "import math"
   ]
  },
  {
   "cell_type": "code",
   "execution_count": 358,
   "id": "52023a9f",
   "metadata": {},
   "outputs": [],
   "source": [
    "img = cv2.imread(\"images/bottle_crate_07.png\",cv2.IMREAD_COLOR)\n",
    "img = cv2.medianBlur(img,5)\n",
    "img2 = cv2.medianBlur(img,13)"
   ]
  },
  {
   "cell_type": "code",
   "execution_count": 359,
   "id": "323f87d6",
   "metadata": {},
   "outputs": [],
   "source": [
    "gray = cv2.cvtColor(img, cv2.COLOR_BGR2GRAY)\n",
    "gray2 = cv2.cvtColor(img2, cv2.COLOR_BGR2GRAY)"
   ]
  },
  {
   "cell_type": "code",
   "execution_count": 360,
   "id": "2fb2ad7f",
   "metadata": {},
   "outputs": [],
   "source": [
    "normal_bottles= cv2.HoughCircles(gray,cv2.HOUGH_GRADIENT,1,40\n",
    "                                    ,param1 = 32\n",
    "                                    ,param2=30,minRadius =1, maxRadius =26)"
   ]
  },
  {
   "cell_type": "code",
   "execution_count": 361,
   "id": "8fc8f327",
   "metadata": {},
   "outputs": [],
   "source": [
    "flip_bottles =cv2.HoughCircles(gray2,cv2.HOUGH_GRADIENT,1,40\n",
    "                                    ,param1 = 32\n",
    "                                    ,param2=30,minRadius =30, maxRadius =38)"
   ]
  },
  {
   "cell_type": "code",
   "execution_count": 362,
   "id": "6f78da70",
   "metadata": {},
   "outputs": [],
   "source": [
    "num_bottles=0\n",
    "if normal_bottles is not None:\n",
    "    normal_bottles = np.uint16(np.around(normal_bottles))\n",
    "  \n",
    "    for pt in normal_bottles[0, :]:\n",
    "        a, b, r = pt[0], pt[1], pt[2]\n",
    "        cv2.circle(img, (a, b), r, (0, 255, 0), 2)  \n",
    "        cv2.circle(img, (a, b), 1, (0, 0, 255), 3)\n",
    "        num_bottles=num_bottles+1\n",
    "else: \n",
    "    num_bottles = 0"
   ]
  },
  {
   "cell_type": "code",
   "execution_count": 363,
   "id": "20bc8d28",
   "metadata": {},
   "outputs": [
    {
     "data": {
      "text/plain": [
       "20"
      ]
     },
     "execution_count": 363,
     "metadata": {},
     "output_type": "execute_result"
    }
   ],
   "source": [
    "num_flipped_bottles = 0\n",
    "if flip_bottles is not None:\n",
    "    flip_bottles = np.uint16(np.around(flip_bottles))  \n",
    "    for pt in flip_bottles[0, :]:\n",
    "        a, b, r = pt[0], pt[1], pt[2]\n",
    "        cv2.circle(img, (a, b), r, (0, 255, 0), 2)\n",
    "        cv2.circle(img, (a, b), 1, (0, 0, 255), 3)\n",
    "        num_flipped_bottles =num_flipped_bottles +1\n",
    "else: \n",
    "    num_flipped_bottles  = 0\n",
    "cv2.imshow(\"Detected Bottles\", img)\n",
    "cv2.waitKey(0)\n",
    "cv2.destroyAllWindows()\n",
    "num_bottles = num_bottles+num_flipped_bottles\n",
    "num_bottles"
   ]
  },
  {
   "cell_type": "code",
   "execution_count": null,
   "id": "8422ce8e",
   "metadata": {},
   "outputs": [],
   "source": []
  }
 ],
 "metadata": {
  "kernelspec": {
   "display_name": "Python 3 (ipykernel)",
   "language": "python",
   "name": "python3"
  },
  "language_info": {
   "codemirror_mode": {
    "name": "ipython",
    "version": 3
   },
   "file_extension": ".py",
   "mimetype": "text/x-python",
   "name": "python",
   "nbconvert_exporter": "python",
   "pygments_lexer": "ipython3",
   "version": "3.9.7"
  }
 },
 "nbformat": 4,
 "nbformat_minor": 5
}
